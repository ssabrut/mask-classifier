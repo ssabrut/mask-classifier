{
 "cells": [
  {
   "cell_type": "code",
   "execution_count": 3,
   "id": "083dca3c",
   "metadata": {},
   "outputs": [],
   "source": [
    "import tensorflow as tf\n",
    "from tensorflow.keras.models import load_model\n",
    "\n",
    "model = load_model('model_uasaiV2.h5')"
   ]
  },
  {
   "cell_type": "code",
   "execution_count": 4,
   "id": "55883439",
   "metadata": {},
   "outputs": [],
   "source": [
    "labels = {0: 'with_mask', 1: 'incorrect_mask', 2: 'without_mask'}\n",
    "colors = {0: (0,255,0), 1: (255,255,0), 2: (0,0,255)}"
   ]
  },
  {
   "cell_type": "code",
   "execution_count": 5,
   "id": "1f826087",
   "metadata": {},
   "outputs": [],
   "source": [
    "import cv2\n",
    "import numpy as np\n",
    "from cv2 import CascadeClassifier\n",
    "\n",
    "img_size = 128\n",
    "size = 4\n",
    "cap = cv2.VideoCapture(0)\n",
    "classifier = CascadeClassifier('haarcascade_frontalface_default.xml')\n",
    "while True:\n",
    "  val, img = cap.read()\n",
    "  img = cv2.flip(img,1,1)\n",
    "  \n",
    "  # resize image\n",
    "  resized = cv2.resize(img, (img.shape[1] // size, img.shape[0] // size))\n",
    "\n",
    "  # detect Multiscale/faces\n",
    "  faces = classifier.detectMultiScale(resized)\n",
    "\n",
    "  # to draw rectangle\n",
    "  for f in faces:\n",
    "    (x,y,w,h) = [v*size for v in f]\n",
    "\n",
    "    # save rectangle faces\n",
    "    face_img = img[y:y+h, x:x+w]\n",
    "    resized = cv2.resize(face_img,(img_size,img_size))\n",
    "    normalized = resized/255.0\n",
    "    reshaped = np.reshape(normalized,(1,img_size,img_size,3))\n",
    "    reshaped = np.vstack([reshaped])\n",
    "    result = model.predict(reshaped)\n",
    "    label = np.argmax(result, axis=1)[0]\n",
    "    cv2.rectangle(img,(x,y),(x+w,y+h),colors[label],2)\n",
    "    cv2.rectangle(img,(x,y-40),(x+w,y),colors[label],-1)\n",
    "    cv2.putText(img, labels[label], (x, y-10),cv2.FONT_HERSHEY_SIMPLEX,0.8,(255,255,255),2)\n",
    "  cv2.imshow('LIVE', img)\n",
    "  key = cv2.waitKey(10)\n",
    "  if key == 27:\n",
    "    break\n",
    "cap.release()\n",
    "cv2.destroyAllWindows()"
   ]
  },
  {
   "cell_type": "code",
   "execution_count": null,
   "id": "b7da95a0",
   "metadata": {},
   "outputs": [],
   "source": []
  }
 ],
 "metadata": {
  "kernelspec": {
   "display_name": "Python 3 (ipykernel)",
   "language": "python",
   "name": "python3"
  },
  "language_info": {
   "codemirror_mode": {
    "name": "ipython",
    "version": 3
   },
   "file_extension": ".py",
   "mimetype": "text/x-python",
   "name": "python",
   "nbconvert_exporter": "python",
   "pygments_lexer": "ipython3",
   "version": "3.8.5"
  }
 },
 "nbformat": 4,
 "nbformat_minor": 5
}
